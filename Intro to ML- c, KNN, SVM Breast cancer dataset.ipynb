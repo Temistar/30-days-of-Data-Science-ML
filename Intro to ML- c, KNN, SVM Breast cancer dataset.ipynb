{
 "cells": [
  {
   "cell_type": "code",
   "execution_count": 2,
   "metadata": {},
   "outputs": [],
   "source": [
    "import numpy as np\n",
    "from sklearn import preprocessing, neighbors, svm\n",
    "from sklearn.model_selection import train_test_split\n",
    "import pandas as pd"
   ]
  },
  {
   "cell_type": "code",
   "execution_count": 3,
   "metadata": {},
   "outputs": [],
   "source": [
    "df= pd.read_csv('breast-cancer-wisconsin.data')\n",
    "df.replace('?', -99999, inplace=True)\n",
    "df.drop(['id'], 1, inplace=True )"
   ]
  },
  {
   "cell_type": "code",
   "execution_count": null,
   "metadata": {},
   "outputs": [],
   "source": []
  },
  {
   "cell_type": "code",
   "execution_count": 6,
   "metadata": {},
   "outputs": [],
   "source": [
    "x = np.array(df.drop(['class'], 1))\n",
    "y = np.array(df['class'])"
   ]
  },
  {
   "cell_type": "code",
   "execution_count": 7,
   "metadata": {},
   "outputs": [],
   "source": [
    "X_train, X_test, y_train, y_test = train_test_split(x,y,test_size=0.2,random_state=0)"
   ]
  },
  {
   "cell_type": "code",
   "execution_count": 5,
   "metadata": {},
   "outputs": [
    {
     "data": {
      "text/plain": [
       "KNeighborsClassifier(algorithm='auto', leaf_size=30, metric='minkowski',\n",
       "                     metric_params=None, n_jobs=None, n_neighbors=5, p=2,\n",
       "                     weights='uniform')"
      ]
     },
     "execution_count": 5,
     "metadata": {},
     "output_type": "execute_result"
    }
   ],
   "source": [
    "clf = neighbors.KNeighborsClassifier()\n",
    "clf.fit(X_train, y_train)"
   ]
  },
  {
   "cell_type": "code",
   "execution_count": 6,
   "metadata": {},
   "outputs": [
    {
     "name": "stdout",
     "output_type": "stream",
     "text": [
      "0.9857142857142858\n"
     ]
    }
   ],
   "source": [
    "accuracy = clf.score(X_test, y_test)\n",
    "print(accuracy)"
   ]
  },
  {
   "cell_type": "code",
   "execution_count": 7,
   "metadata": {},
   "outputs": [],
   "source": [
    "examples_measures = np.array([4,2,1,1,1,2,3,2,1]).reshape(1,-1)"
   ]
  },
  {
   "cell_type": "code",
   "execution_count": 8,
   "metadata": {},
   "outputs": [
    {
     "name": "stdout",
     "output_type": "stream",
     "text": [
      "[2]\n"
     ]
    }
   ],
   "source": [
    "prediction=clf.predict(examples_measures)\n",
    "print(prediction)"
   ]
  },
  {
   "cell_type": "code",
   "execution_count": 9,
   "metadata": {},
   "outputs": [],
   "source": [
    "examples_measures=np.array([[4,2,1,1,1,2,3,2,1], [4,2,1,2,2,2,3,2,1]]).reshape(2, -1) #(len(examples_measures),-1)"
   ]
  },
  {
   "cell_type": "code",
   "execution_count": 10,
   "metadata": {},
   "outputs": [
    {
     "name": "stdout",
     "output_type": "stream",
     "text": [
      "[2 2]\n"
     ]
    }
   ],
   "source": [
    "prediction=clf.predict(examples_measures)\n",
    "print(prediction)"
   ]
  },
  {
   "cell_type": "markdown",
   "metadata": {},
   "source": [
    "### For KNN, k means the distance between the neighbors which works with Eucleadian distance. So we are going to calculate it. "
   ]
  },
  {
   "cell_type": "code",
   "execution_count": 11,
   "metadata": {},
   "outputs": [],
   "source": [
    "from math import sqrt"
   ]
  },
  {
   "cell_type": "code",
   "execution_count": 12,
   "metadata": {},
   "outputs": [],
   "source": [
    "plot1= [1,3]\n",
    "plot2= [2,5]\n"
   ]
  },
  {
   "cell_type": "code",
   "execution_count": 13,
   "metadata": {},
   "outputs": [],
   "source": [
    "euclidean_dist = sqrt((plot1[0]-plot2[0])**2 + (plot1[1]-plot2[1])**2)"
   ]
  },
  {
   "cell_type": "code",
   "execution_count": 14,
   "metadata": {},
   "outputs": [
    {
     "name": "stdout",
     "output_type": "stream",
     "text": [
      "2.23606797749979\n"
     ]
    }
   ],
   "source": [
    "print(euclidean_dist)"
   ]
  },
  {
   "cell_type": "code",
   "execution_count": 15,
   "metadata": {},
   "outputs": [],
   "source": [
    "import matplotlib.pyplot as plt\n",
    "from matplotlib import style\n",
    "from collections import Counter\n",
    "import warnings\n",
    "style.use('fivethirtyeight')"
   ]
  },
  {
   "cell_type": "code",
   "execution_count": 16,
   "metadata": {},
   "outputs": [],
   "source": [
    "dataset ={'k':[[1,2],[2,3],[3,1]], 'r':[[6,5],[7,7],[8,6]]}\n",
    "new_features =[5,7]"
   ]
  },
  {
   "cell_type": "code",
   "execution_count": 17,
   "metadata": {},
   "outputs": [
    {
     "data": {
      "text/plain": [
       "<matplotlib.collections.PathCollection at 0x1e891908408>"
      ]
     },
     "execution_count": 17,
     "metadata": {},
     "output_type": "execute_result"
    },
    {
     "data": {
      "image/png": "[encoded data removed]",
      "text/plain": [
       "<Figure size 432x288 with 1 Axes>"
      ]
     },
     "metadata": {
      "needs_background": "light"
     },
     "output_type": "display_data"
    }
   ],
   "source": [
    "for i in dataset:\n",
    "    for ii in dataset[i]:\n",
    "        plt.scatter(ii[0],ii[1], s=100, color=i)\n",
    "# or [[plt.scatter(ii[0],ii[1], s=100, color=i) for ii in datset[i]] for i in dataset]\n",
    "plt.scatter(new_features[0], new_features[1], s=100)"
   ]
  },
  {
   "cell_type": "code",
   "execution_count": 18,
   "metadata": {},
   "outputs": [
    {
     "name": "stdout",
     "output_type": "stream",
     "text": [
      "[('r', 3)]\n",
      "r\n"
     ]
    }
   ],
   "source": [
    "def k_nearest_neighbors(data, predict, k=3):\n",
    "    if len(data) >= k:\n",
    "        warning.warn('k is set to a value less than total voting groups!')\n",
    "    distances = []\n",
    "    for group in data:\n",
    "        for features in data[group]:\n",
    "            #euclidean_dist = sqrt((features[0]-predict[0])**2 + (features[1]-predict[1])**2)\n",
    "            #euclidean_dist =np.sqrt(np.sum((np.array(features)-np.array(predict))**2))\n",
    "            euclidean_dist = np.linalg.norm(np.array(features)-np.array(predict))\n",
    "            distances.append([euclidean_dist, group])\n",
    "    votes = [i[1] for i in sorted(distances)[:k]]\n",
    "    print (Counter(votes).most_common(1))\n",
    "    vote_result = Counter(votes).most_common(1)[0][0]\n",
    "    \n",
    "    return vote_result\n",
    "\n",
    "result = k_nearest_neighbors(dataset, new_features, k=3)\n",
    "print(result)"
   ]
  },
  {
   "cell_type": "code",
   "execution_count": 19,
   "metadata": {},
   "outputs": [
    {
     "data": {
      "text/plain": [
       "<matplotlib.collections.PathCollection at 0x1e891984b48>"
      ]
     },
     "execution_count": 19,
     "metadata": {},
     "output_type": "execute_result"
    },
    {
     "data": {
      "image/png": "[encoded data removed]",
      "text/plain": [
       "<Figure size 432x288 with 1 Axes>"
      ]
     },
     "metadata": {
      "needs_background": "light"
     },
     "output_type": "display_data"
    }
   ],
   "source": [
    "[[plt.scatter(ii[0],ii[1], s=100, color=i) for ii in dataset[i]] for i in dataset]\n",
    "plt.scatter(new_features[0], new_features[1], color = result, s=50)"
   ]
  },
  {
   "cell_type": "markdown",
   "metadata": {},
   "source": [
    "### comparing our algorithm to scikit-learn predefined knn algorithm for the breast cancer data"
   ]
  },
  {
   "cell_type": "code",
   "execution_count": 20,
   "metadata": {},
   "outputs": [],
   "source": [
    "import random"
   ]
  },
  {
   "cell_type": "code",
   "execution_count": 21,
   "metadata": {},
   "outputs": [],
   "source": [
    "#to make all dataset(breast_cancer_winscosin) an integer or float\n",
    "full_data = df.astype(float).values.tolist()\n",
    "\n",
    "#to shuffle data\n",
    "random.shuffle(full_data)"
   ]
  },
  {
   "cell_type": "code",
   "execution_count": 22,
   "metadata": {},
   "outputs": [],
   "source": [
    "test_size = 0.2\n",
    "train_set = {2:[], 4:[]}\n",
    "test_set= {2:[], 4:[]}\n",
    "train_data = full_data[:-int(test_size*len(full_data))]\n",
    "test_data = full_data[-int(test_size*len(full_data)):]"
   ]
  },
  {
   "cell_type": "code",
   "execution_count": 23,
   "metadata": {},
   "outputs": [],
   "source": [
    "for i in train_data:\n",
    "    train_set[i[-1]].append(i[:-1])\n",
    "    \n",
    "for i in test_data:\n",
    "    test_set[i[-1]].append(i[:-1])"
   ]
  },
  {
   "cell_type": "code",
   "execution_count": 24,
   "metadata": {
    "collapsed": true
   },
   "outputs": [
    {
     "name": "stdout",
     "output_type": "stream",
     "text": [
      "[(2, 5)]\n",
      "[(2, 5)]\n",
      "[(2, 5)]\n",
      "[(2, 5)]\n",
      "[(2, 5)]\n",
      "[(2, 5)]\n",
      "[(2, 5)]\n",
      "[(2, 5)]\n",
      "[(2, 5)]\n",
      "[(2, 5)]\n",
      "[(2, 5)]\n",
      "[(2, 5)]\n",
      "[(2, 5)]\n",
      "[(2, 5)]\n",
      "[(4, 3)]\n",
      "[(2, 5)]\n",
      "[(2, 5)]\n",
      "[(2, 5)]\n",
      "[(2, 5)]\n",
      "[(2, 5)]\n",
      "[(2, 5)]\n",
      "[(2, 5)]\n",
      "[(2, 5)]\n",
      "[(2, 5)]\n",
      "[(2, 5)]\n",
      "[(2, 5)]\n",
      "[(2, 5)]\n",
      "[(2, 5)]\n",
      "[(2, 5)]\n",
      "[(2, 3)]\n",
      "[(2, 5)]\n",
      "[(2, 5)]\n",
      "[(2, 5)]\n",
      "[(2, 5)]\n",
      "[(2, 5)]\n",
      "[(2, 5)]\n",
      "[(2, 5)]\n",
      "[(2, 5)]\n",
      "[(2, 5)]\n",
      "[(2, 5)]\n",
      "[(2, 5)]\n",
      "[(2, 5)]\n",
      "[(2, 5)]\n",
      "[(2, 5)]\n",
      "[(2, 5)]\n",
      "[(2, 5)]\n",
      "[(2, 5)]\n",
      "[(2, 5)]\n",
      "[(2, 5)]\n",
      "[(2, 5)]\n",
      "[(2, 5)]\n",
      "[(2, 5)]\n",
      "[(2, 5)]\n",
      "[(2, 5)]\n",
      "[(2, 5)]\n",
      "[(2, 5)]\n",
      "[(2, 5)]\n",
      "[(2, 5)]\n",
      "[(2, 5)]\n",
      "[(2, 5)]\n",
      "[(4, 3)]\n",
      "[(2, 5)]\n",
      "[(2, 5)]\n",
      "[(2, 5)]\n",
      "[(2, 5)]\n",
      "[(2, 5)]\n",
      "[(2, 5)]\n",
      "[(2, 5)]\n",
      "[(2, 5)]\n",
      "[(2, 5)]\n",
      "[(2, 5)]\n",
      "[(2, 5)]\n",
      "[(2, 5)]\n",
      "[(2, 5)]\n",
      "[(2, 5)]\n",
      "[(2, 5)]\n",
      "[(2, 5)]\n",
      "[(2, 5)]\n",
      "[(2, 5)]\n",
      "[(2, 5)]\n",
      "[(2, 5)]\n",
      "[(2, 5)]\n",
      "[(2, 5)]\n",
      "[(2, 5)]\n",
      "[(2, 5)]\n",
      "[(2, 5)]\n",
      "[(2, 5)]\n",
      "[(2, 5)]\n",
      "[(2, 5)]\n",
      "[(2, 5)]\n",
      "[(4, 5)]\n",
      "[(4, 5)]\n",
      "[(4, 5)]\n",
      "[(4, 5)]\n",
      "[(4, 5)]\n",
      "[(4, 5)]\n",
      "[(4, 4)]\n",
      "[(4, 3)]\n",
      "[(4, 5)]\n",
      "[(4, 5)]\n",
      "[(4, 5)]\n",
      "[(4, 4)]\n",
      "[(4, 5)]\n",
      "[(4, 5)]\n",
      "[(4, 5)]\n",
      "[(4, 5)]\n",
      "[(4, 5)]\n",
      "[(4, 5)]\n",
      "[(4, 5)]\n",
      "[(4, 5)]\n",
      "[(4, 4)]\n",
      "[(4, 5)]\n",
      "[(4, 5)]\n",
      "[(4, 5)]\n",
      "[(4, 5)]\n",
      "[(4, 4)]\n",
      "[(4, 5)]\n",
      "[(4, 5)]\n",
      "[(4, 5)]\n",
      "[(4, 5)]\n",
      "[(4, 4)]\n",
      "[(4, 5)]\n",
      "[(4, 5)]\n",
      "[(4, 5)]\n",
      "[(4, 5)]\n",
      "[(4, 3)]\n",
      "[(4, 5)]\n",
      "[(4, 5)]\n",
      "[(4, 5)]\n",
      "[(4, 5)]\n",
      "[(4, 5)]\n",
      "[(4, 5)]\n",
      "[(4, 5)]\n",
      "[(4, 3)]\n",
      "[(2, 4)]\n",
      "[(4, 5)]\n",
      "[(4, 5)]\n",
      "[(4, 5)]\n",
      "[(4, 5)]\n",
      "Accuracy: 0.9784172661870504\n"
     ]
    }
   ],
   "source": [
    "correct =0\n",
    "total=0\n",
    "\n",
    "for group in test_set:\n",
    "    for data in test_set[group]:\n",
    "        vote = k_nearest_neighbors(train_set, data, k=5)\n",
    "        if group ==vote:\n",
    "            correct +=1\n",
    "        total +=1\n",
    "print('Accuracy:', correct/total)"
   ]
  },
  {
   "cell_type": "markdown",
   "metadata": {},
   "source": [
    "### Working with Support vector machine"
   ]
  },
  {
   "cell_type": "code",
   "execution_count": 25,
   "metadata": {},
   "outputs": [
    {
     "name": "stdout",
     "output_type": "stream",
     "text": [
      "0.95\n"
     ]
    },
    {
     "name": "stderr",
     "output_type": "stream",
     "text": [
      "C:\\ProgramData\\Anaconda3\\lib\\site-packages\\sklearn\\svm\\base.py:193: FutureWarning: The default value of gamma will change from 'auto' to 'scale' in version 0.22 to account better for unscaled features. Set gamma explicitly to 'auto' or 'scale' to avoid this warning.\n",
      "  \"avoid this warning.\", FutureWarning)\n"
     ]
    }
   ],
   "source": [
    "clf2 = svm.SVC()\n",
    "clf2.fit(X_train, y_train)\n",
    "accuracy=clf2.score(X_test, y_test)\n",
    "print(accuracy)"
   ]
  },
  {
   "cell_type": "code",
   "execution_count": 26,
   "metadata": {},
   "outputs": [
    {
     "name": "stdout",
     "output_type": "stream",
     "text": [
      "[2 2]\n"
     ]
    }
   ],
   "source": [
    "prediction=clf2.predict(examples_measures)\n",
    "print(prediction)"
   ]
  },
  {
   "cell_type": "code",
   "execution_count": 28,
   "metadata": {},
   "outputs": [],
   "source": [
    "style.use('ggplot')"
   ]
  },
  {
   "cell_type": "markdown",
   "metadata": {},
   "source": [
    "### Theory of SVM"
   ]
  },
  {
   "cell_type": "code",
   "execution_count": 43,
   "metadata": {},
   "outputs": [
    {
     "ename": "IndentationError",
     "evalue": "expected an indented block (<ipython-input-43-4ef023d9c6e5>, line 18)",
     "output_type": "error",
     "traceback": [
      "\u001b[1;36m  File \u001b[1;32m\"<ipython-input-43-4ef023d9c6e5>\"\u001b[1;36m, line \u001b[1;32m18\u001b[0m\n\u001b[1;33m    for feature in featureset:\u001b[0m\n\u001b[1;37m      ^\u001b[0m\n\u001b[1;31mIndentationError\u001b[0m\u001b[1;31m:\u001b[0m expected an indented block\n"
     ]
    }
   ],
   "source": [
    "class SupportVectorMachine:\n",
    "    def __init__(self, visualization=True):\n",
    "        self.visualization = visualization\n",
    "        self.colors ={1:'r',-1:'b'}\n",
    "        if self.visualization:\n",
    "            self.fig = plt.figure()\n",
    "            self.ax= self.fig.add_subplot(1,1,1)\n",
    "        \n",
    "    def fit(self, data):\n",
    "        self.data = data\n",
    "        opt_dict ={}\n",
    "        \n",
    "        transforms = [[1,1],[-1,1],[-1,-1],[1,-1]]\n",
    "        \n",
    "        all_data = []\n",
    "        for yi in self.data:\n",
    "            for featureset in self.data[yi]:\n",
    "             for feature in featureset:\n",
    "                all_data.append(feature)\n",
    "                \n",
    "        self.max_feature_values = max(all_data)\n",
    "        self.min_features_values = min(all_data)\n",
    "        all_data= None\n",
    "        \n",
    "        step_sizes =[self.max_feature_values*0.1,\n",
    "                    self.max_feature_values*0.01,\n",
    "                    self.max_feature_values*0.001]\n",
    "        \n",
    "        b_range_multiple =5\n",
    "    def predict(self, features):\n",
    "        #sign(x.w+b)\n",
    "        classification = np.sign(np.dot(np.array(features), self.w)+self.b)\n",
    "        \n",
    "        return classification"
   ]
  },
  {
   "cell_type": "code",
   "execution_count": null,
   "metadata": {},
   "outputs": [],
   "source": [
    "data_dict ={-1:np.array([[1,7],[2,8],[3,8]]), \n",
    "            1:np.array([5,1],[6,-1],[7,3])}"
   ]
  }
 ],
 "metadata": {
  "kernelspec": {
   "display_name": "Python 3",
   "language": "python",
   "name": "python3"
  },
  "language_info": {
   "codemirror_mode": {
    "name": "ipython",
    "version": 3
   },
   "file_extension": ".py",
   "mimetype": "text/x-python",
   "name": "python",
   "nbconvert_exporter": "python",
   "pygments_lexer": "ipython3",
   "version": "3.7.4"
  }
 },
 "nbformat": 4,
 "nbformat_minor": 2
}
